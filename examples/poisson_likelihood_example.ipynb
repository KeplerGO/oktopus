{
 "cells": [
  {
   "cell_type": "markdown",
   "metadata": {},
   "source": [
    "# Fitting a line to Poisson data"
   ]
  },
  {
   "cell_type": "code",
   "execution_count": 1,
   "metadata": {
    "collapsed": true
   },
   "outputs": [],
   "source": [
    "%matplotlib inline\n",
    "import oktopus\n",
    "from oktopus import UniformPrior, JointPrior, PoissonPosterior, PoissonLikelihood\n",
    "import numpy as np\n",
    "import matplotlib.pyplot as pl"
   ]
  },
  {
   "cell_type": "code",
   "execution_count": 2,
   "metadata": {
    "collapsed": true
   },
   "outputs": [],
   "source": [
    "x = np.linspace(0, 5, 100)\n",
    "def mean(m, b):\n",
    "    return x * m + b\n",
    "poisson_data = np.random.poisson(mean(2, 10))"
   ]
  },
  {
   "cell_type": "code",
   "execution_count": 3,
   "metadata": {},
   "outputs": [
    {
     "data": {
      "text/plain": [
       "[<matplotlib.lines.Line2D at 0x11580b7b8>]"
      ]
     },
     "execution_count": 3,
     "metadata": {},
     "output_type": "execute_result"
    },
    {
     "data": {
      "image/png": "[encoded data removed]",
      "text/plain": [
       "<matplotlib.figure.Figure at 0x11246ce48>"
      ]
     },
     "metadata": {},
     "output_type": "display_data"
    }
   ],
   "source": [
    "pl.step(x, poisson_data)"
   ]
  },
  {
   "cell_type": "code",
   "execution_count": 4,
   "metadata": {},
   "outputs": [],
   "source": [
    "unif_prior = JointPrior(UniformPrior(0.5, 4), UniformPrior(4, 16))"
   ]
  },
  {
   "cell_type": "code",
   "execution_count": 5,
   "metadata": {
    "collapsed": true
   },
   "outputs": [],
   "source": [
    "poisson_posterior = PoissonPosterior(poisson_data, mean, unif_prior)\n",
    "poisson_likelihood = PoissonLikelihood(poisson_data, mean)"
   ]
  },
  {
   "cell_type": "code",
   "execution_count": 6,
   "metadata": {},
   "outputs": [
    {
     "data": {
      "text/plain": [
       " final_simplex: (array([[ 2.01757486,  9.93607917],\n",
       "       [ 2.0175379 ,  9.93616038],\n",
       "       [ 2.01758783,  9.93601741]]), array([-2582.28697484, -2582.28697483, -2582.28697483]))\n",
       "           fun: -2582.2869748361445\n",
       "       message: 'Optimization terminated successfully.'\n",
       "          nfev: 63\n",
       "           nit: 32\n",
       "        status: 0\n",
       "       success: True\n",
       "             x: array([ 2.01757486,  9.93607917])"
      ]
     },
     "execution_count": 6,
     "metadata": {},
     "output_type": "execute_result"
    }
   ],
   "source": [
    "result_posterior = poisson_posterior.fit(x0=(1.5, 11))\n",
    "result_posterior"
   ]
  },
  {
   "cell_type": "code",
   "execution_count": 7,
   "metadata": {},
   "outputs": [
    {
     "data": {
      "text/plain": [
       " final_simplex: (array([[ 2.01757486,  9.93607917],\n",
       "       [ 2.0175379 ,  9.93616038],\n",
       "       [ 2.01758783,  9.93601741]]), array([-2586.02464445, -2586.02464445, -2586.02464445]))\n",
       "           fun: -2586.0246444544277\n",
       "       message: 'Optimization terminated successfully.'\n",
       "          nfev: 63\n",
       "           nit: 32\n",
       "        status: 0\n",
       "       success: True\n",
       "             x: array([ 2.01757486,  9.93607917])"
      ]
     },
     "execution_count": 7,
     "metadata": {},
     "output_type": "execute_result"
    }
   ],
   "source": [
    "result_likelihood = poisson_likelihood.fit(x0=(1.5, 11))\n",
    "result_likelihood"
   ]
  },
  {
   "cell_type": "code",
   "execution_count": 8,
   "metadata": {},
   "outputs": [
    {
     "data": {
      "text/plain": [
       "[<matplotlib.lines.Line2D at 0x115964710>]"
      ]
     },
     "execution_count": 8,
     "metadata": {},
     "output_type": "execute_result"
    },
    {
     "data": {
      "image/png": "[encoded data removed]",
      "text/plain": [
       "<matplotlib.figure.Figure at 0x115838a58>"
      ]
     },
     "metadata": {},
     "output_type": "display_data"
    }
   ],
   "source": [
    "pl.figure(figsize=[10, 5])\n",
    "pl.step(x, poisson_data)\n",
    "pl.plot(x, mean(*result_posterior.x), '.')\n",
    "pl.plot(x, mean(*result_likelihood.x))\n",
    "pl.plot(x, mean(2, 10), 'k--')"
   ]
  },
  {
   "cell_type": "code",
   "execution_count": null,
   "metadata": {
    "collapsed": true
   },
   "outputs": [],
   "source": [
    "import emcee\n",
    "ndim, nwalkers = 2, 100\n",
    "p0 = [result_posterior.x + 1e-4*np.random.randn(ndim) for i in range(nwalkers)]"
   ]
  },
  {
   "cell_type": "code",
   "execution_count": null,
   "metadata": {},
   "outputs": [],
   "source": [
    "sampler = emcee.EnsembleSampler(nwalkers, ndim, lambda params: - poisson_posterior.evaluate(params))\n",
    "sampler.run_mcmc(p0, 5000)"
   ]
  },
  {
   "cell_type": "code",
   "execution_count": null,
   "metadata": {},
   "outputs": [],
   "source": [
    "samples = sampler.chain[:, 50:, :].reshape((-1, ndim))\n",
    "samples.shape"
   ]
  },
  {
   "cell_type": "code",
   "execution_count": null,
   "metadata": {},
   "outputs": [],
   "source": [
    "import corner\n",
    "fig = corner.corner(samples, labels=[\"$m$\", \"$b$\"],\n",
    "                    truths=[2, 10])"
   ]
  },
  {
   "cell_type": "code",
   "execution_count": null,
   "metadata": {},
   "outputs": [],
   "source": [
    "from matplotlib.ticker import MaxNLocator\n",
    "label = [r\"$m$\", r\"$b$\"]\n",
    "\n",
    "fig, axes = pl.subplots(2, 1, sharex=True)\n",
    "for i in range(0, 2, 1):\n",
    "    axes[i].plot(sampler.chain[:, :, i].T, color=\"k\", alpha=0.2)\n",
    "    axes[i].yaxis.set_major_locator(MaxNLocator(5))\n",
    "    axes[i].set_ylabel(label[i])\n",
    "\n",
    "axes[1].set_xlabel(\"step number\")\n",
    "fig.tight_layout(h_pad=0.0)"
   ]
  },
  {
   "cell_type": "code",
   "execution_count": null,
   "metadata": {},
   "outputs": [],
   "source": [
    "pl.figure(figsize=[10, 5])\n",
    "xl = np.array([0, 5])\n",
    "for m, b in samples[np.random.randint(len(samples), size=100)]:\n",
    "    pl.plot(xl, m*xl+b, color=\"k\", alpha=0.1)\n",
    "pl.step(x, poisson_data)\n",
    "pl.plot(x, mean(*result_posterior.x), '-')\n",
    "pl.plot(x, mean(2, 10), 'r-')"
   ]
  },
  {
   "cell_type": "code",
   "execution_count": null,
   "metadata": {
    "collapsed": true
   },
   "outputs": [],
   "source": []
  }
 ],
 "metadata": {
  "kernelspec": {
   "display_name": "Python [default]",
   "language": "python",
   "name": "python3"
  },
  "language_info": {
   "codemirror_mode": {
    "name": "ipython",
    "version": 3
   },
   "file_extension": ".py",
   "mimetype": "text/x-python",
   "name": "python",
   "nbconvert_exporter": "python",
   "pygments_lexer": "ipython3",
   "version": "3.6.2"
  }
 },
 "nbformat": 4,
 "nbformat_minor": 2
}
